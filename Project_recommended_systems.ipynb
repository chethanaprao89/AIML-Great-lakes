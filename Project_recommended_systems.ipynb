{
 "cells": [
  {
   "cell_type": "code",
   "execution_count": 1,
   "id": "e58c92c5",
   "metadata": {},
   "outputs": [],
   "source": [
    "import pandas as pd\n",
    "import numpy as np\n",
    "import matplotlib.pyplot as plt\n",
    "%matplotlib inline \n",
    "import os\n",
    "import glob\n",
    "import seaborn as sns\n",
    "from sklearn.preprocessing import LabelEncoder\n",
    "from zipfile import ZipFile\n",
    "\n",
    "from sklearn.feature_extraction.text import TfidfVectorizer, CountVectorizer\n",
    "from sklearn.metrics.pairwise import linear_kernel, cosine_similarity\n",
    "\n",
    "# filterwarnings to ignore all unnecessary warnings and logs\n",
    "import warnings\n",
    "warnings.filterwarnings('ignore')"
   ]
  },
  {
   "cell_type": "code",
   "execution_count": 2,
   "id": "dfc0cb2c",
   "metadata": {},
   "outputs": [],
   "source": [
    "# suppress display of warnings\n",
    "warnings.filterwarnings('ignore')\n",
    "\n",
    "# display all dataframe columns\n",
    "pd.options.display.max_columns = None\n",
    "\n",
    "# to set the limit to 3 decimals\n",
    "pd.options.display.float_format = '{:.7f}'.format\n",
    "\n",
    "# display all dataframe rows\n",
    "pd.options.display.max_rows = None"
   ]
  },
  {
   "cell_type": "code",
   "execution_count": 21,
   "id": "996386a3",
   "metadata": {},
   "outputs": [],
   "source": [
    "#read the data files\n",
    "Phone_data_5=pd.read_csv('phone_user_review_file_5.csv',header=None)\n",
    "Phone_data_4=pd.read_csv('phone_user_review_file_4.csv',header=None)\n",
    "Phone_data_3=pd.read_csv('phone_user_review_file_3.csv',header=None)\n",
    "Phone_data_2=pd.read_csv('phone_user_review_file_2.csv',header=None)\n",
    "Phone_data_1=pd.read_csv('phone_user_review_file_1.csv',header=None)\n",
    "Phone_data_6=pd.read_csv('phone_user_review_file_6.csv',header=None)"
   ]
  },
  {
   "cell_type": "code",
   "execution_count": 28,
   "id": "8f7b1d30",
   "metadata": {},
   "outputs": [],
   "source": [
    "Phone_data = pd.concat([Phone_data_1, Phone_data_2,Phone_data_3,Phone_data_4,Phone_data_5,Phone_data_6])"
   ]
  },
  {
   "cell_type": "code",
   "execution_count": 29,
   "id": "796398d3",
   "metadata": {},
   "outputs": [
    {
     "data": {
      "text/plain": [
       "(1415139, 11)"
      ]
     },
     "execution_count": 29,
     "metadata": {},
     "output_type": "execute_result"
    }
   ],
   "source": [
    "Phone_data.shape"
   ]
  },
  {
   "cell_type": "code",
   "execution_count": 30,
   "id": "d7c4f0bc",
   "metadata": {},
   "outputs": [
    {
     "data": {
      "text/html": [
       "<div>\n",
       "<style scoped>\n",
       "    .dataframe tbody tr th:only-of-type {\n",
       "        vertical-align: middle;\n",
       "    }\n",
       "\n",
       "    .dataframe tbody tr th {\n",
       "        vertical-align: top;\n",
       "    }\n",
       "\n",
       "    .dataframe thead th {\n",
       "        text-align: right;\n",
       "    }\n",
       "</style>\n",
       "<table border=\"1\" class=\"dataframe\">\n",
       "  <thead>\n",
       "    <tr style=\"text-align: right;\">\n",
       "      <th></th>\n",
       "      <th>0</th>\n",
       "      <th>1</th>\n",
       "      <th>2</th>\n",
       "      <th>3</th>\n",
       "      <th>4</th>\n",
       "      <th>5</th>\n",
       "      <th>6</th>\n",
       "      <th>7</th>\n",
       "      <th>8</th>\n",
       "      <th>9</th>\n",
       "      <th>10</th>\n",
       "    </tr>\n",
       "  </thead>\n",
       "  <tbody>\n",
       "    <tr>\n",
       "      <th>0</th>\n",
       "      <td>phone_url</td>\n",
       "      <td>date</td>\n",
       "      <td>lang</td>\n",
       "      <td>country</td>\n",
       "      <td>source</td>\n",
       "      <td>domain</td>\n",
       "      <td>score</td>\n",
       "      <td>score_max</td>\n",
       "      <td>extract</td>\n",
       "      <td>author</td>\n",
       "      <td>product</td>\n",
       "    </tr>\n",
       "    <tr>\n",
       "      <th>1</th>\n",
       "      <td>/cellphones/samsung-galaxy-s8/</td>\n",
       "      <td>5/2/2017</td>\n",
       "      <td>en</td>\n",
       "      <td>us</td>\n",
       "      <td>Verizon Wireless</td>\n",
       "      <td>verizonwireless.com</td>\n",
       "      <td>10</td>\n",
       "      <td>10</td>\n",
       "      <td>As a diehard Samsung fan who has had every Sam...</td>\n",
       "      <td>CarolAnn35</td>\n",
       "      <td>Samsung Galaxy S8</td>\n",
       "    </tr>\n",
       "    <tr>\n",
       "      <th>2</th>\n",
       "      <td>/cellphones/samsung-galaxy-s8/</td>\n",
       "      <td>4/28/2017</td>\n",
       "      <td>en</td>\n",
       "      <td>us</td>\n",
       "      <td>Phone Arena</td>\n",
       "      <td>phonearena.com</td>\n",
       "      <td>10</td>\n",
       "      <td>10</td>\n",
       "      <td>Love the phone. the phone is sleek and smooth ...</td>\n",
       "      <td>james0923</td>\n",
       "      <td>Samsung Galaxy S8</td>\n",
       "    </tr>\n",
       "    <tr>\n",
       "      <th>3</th>\n",
       "      <td>/cellphones/samsung-galaxy-s8/</td>\n",
       "      <td>5/4/2017</td>\n",
       "      <td>en</td>\n",
       "      <td>us</td>\n",
       "      <td>Amazon</td>\n",
       "      <td>amazon.com</td>\n",
       "      <td>6</td>\n",
       "      <td>10</td>\n",
       "      <td>Adequate feel. Nice heft. Processor's still sl...</td>\n",
       "      <td>R. Craig</td>\n",
       "      <td>Samsung Galaxy S8 (64GB) G950U 5.8\" 4G LTE Unl...</td>\n",
       "    </tr>\n",
       "    <tr>\n",
       "      <th>4</th>\n",
       "      <td>/cellphones/samsung-galaxy-s8/</td>\n",
       "      <td>5/2/2017</td>\n",
       "      <td>en</td>\n",
       "      <td>us</td>\n",
       "      <td>Samsung</td>\n",
       "      <td>samsung.com</td>\n",
       "      <td>9.2</td>\n",
       "      <td>10</td>\n",
       "      <td>Never disappointed. One of the reasons I've be...</td>\n",
       "      <td>Buster2020</td>\n",
       "      <td>Samsung Galaxy S8 64GB (AT&amp;T)</td>\n",
       "    </tr>\n",
       "  </tbody>\n",
       "</table>\n",
       "</div>"
      ],
      "text/plain": [
       "                               0          1     2        3                 4   \\\n",
       "0                       phone_url       date  lang  country            source   \n",
       "1  /cellphones/samsung-galaxy-s8/   5/2/2017    en       us  Verizon Wireless   \n",
       "2  /cellphones/samsung-galaxy-s8/  4/28/2017    en       us       Phone Arena   \n",
       "3  /cellphones/samsung-galaxy-s8/   5/4/2017    en       us            Amazon   \n",
       "4  /cellphones/samsung-galaxy-s8/   5/2/2017    en       us           Samsung   \n",
       "\n",
       "                    5      6          7   \\\n",
       "0               domain  score  score_max   \n",
       "1  verizonwireless.com     10         10   \n",
       "2       phonearena.com     10         10   \n",
       "3           amazon.com      6         10   \n",
       "4          samsung.com    9.2         10   \n",
       "\n",
       "                                                  8            9   \\\n",
       "0                                            extract       author   \n",
       "1  As a diehard Samsung fan who has had every Sam...   CarolAnn35   \n",
       "2  Love the phone. the phone is sleek and smooth ...    james0923   \n",
       "3  Adequate feel. Nice heft. Processor's still sl...     R. Craig   \n",
       "4  Never disappointed. One of the reasons I've be...  Buster2020    \n",
       "\n",
       "                                                  10  \n",
       "0                                            product  \n",
       "1                                  Samsung Galaxy S8  \n",
       "2                                  Samsung Galaxy S8  \n",
       "3  Samsung Galaxy S8 (64GB) G950U 5.8\" 4G LTE Unl...  \n",
       "4                      Samsung Galaxy S8 64GB (AT&T)  "
      ]
     },
     "execution_count": 30,
     "metadata": {},
     "output_type": "execute_result"
    }
   ],
   "source": [
    "Phone_data.head()"
   ]
  },
  {
   "cell_type": "code",
   "execution_count": 25,
   "id": "a6d75c5c",
   "metadata": {},
   "outputs": [
    {
     "name": "stdout",
     "output_type": "stream",
     "text": [
      "Int64Index([     0,      1,      2,      3,      4,      5,      6,      7,\n",
      "                 8,      9,\n",
      "            ...\n",
      "            163828, 163829, 163830, 163831, 163832, 163833, 163834, 163835,\n",
      "            163836, 163837],\n",
      "           dtype='int64', length=1415139)\n"
     ]
    }
   ],
   "source": [
    "print(Phone_data.index)"
   ]
  },
  {
   "cell_type": "code",
   "execution_count": 31,
   "id": "bdcff623",
   "metadata": {},
   "outputs": [],
   "source": [
    "Phone_data.columns = Phone_data.iloc[0]\n",
    "Phone_data = Phone_data[1:]"
   ]
  },
  {
   "cell_type": "code",
   "execution_count": 32,
   "id": "850ac4ef",
   "metadata": {},
   "outputs": [
    {
     "data": {
      "text/html": [
       "<div>\n",
       "<style scoped>\n",
       "    .dataframe tbody tr th:only-of-type {\n",
       "        vertical-align: middle;\n",
       "    }\n",
       "\n",
       "    .dataframe tbody tr th {\n",
       "        vertical-align: top;\n",
       "    }\n",
       "\n",
       "    .dataframe thead th {\n",
       "        text-align: right;\n",
       "    }\n",
       "</style>\n",
       "<table border=\"1\" class=\"dataframe\">\n",
       "  <thead>\n",
       "    <tr style=\"text-align: right;\">\n",
       "      <th></th>\n",
       "      <th>phone_url</th>\n",
       "      <th>date</th>\n",
       "      <th>lang</th>\n",
       "      <th>country</th>\n",
       "      <th>source</th>\n",
       "      <th>domain</th>\n",
       "      <th>score</th>\n",
       "      <th>score_max</th>\n",
       "      <th>extract</th>\n",
       "      <th>author</th>\n",
       "      <th>product</th>\n",
       "    </tr>\n",
       "  </thead>\n",
       "  <tbody>\n",
       "    <tr>\n",
       "      <th>1</th>\n",
       "      <td>/cellphones/samsung-galaxy-s8/</td>\n",
       "      <td>5/2/2017</td>\n",
       "      <td>en</td>\n",
       "      <td>us</td>\n",
       "      <td>Verizon Wireless</td>\n",
       "      <td>verizonwireless.com</td>\n",
       "      <td>10</td>\n",
       "      <td>10</td>\n",
       "      <td>As a diehard Samsung fan who has had every Sam...</td>\n",
       "      <td>CarolAnn35</td>\n",
       "      <td>Samsung Galaxy S8</td>\n",
       "    </tr>\n",
       "    <tr>\n",
       "      <th>2</th>\n",
       "      <td>/cellphones/samsung-galaxy-s8/</td>\n",
       "      <td>4/28/2017</td>\n",
       "      <td>en</td>\n",
       "      <td>us</td>\n",
       "      <td>Phone Arena</td>\n",
       "      <td>phonearena.com</td>\n",
       "      <td>10</td>\n",
       "      <td>10</td>\n",
       "      <td>Love the phone. the phone is sleek and smooth ...</td>\n",
       "      <td>james0923</td>\n",
       "      <td>Samsung Galaxy S8</td>\n",
       "    </tr>\n",
       "    <tr>\n",
       "      <th>3</th>\n",
       "      <td>/cellphones/samsung-galaxy-s8/</td>\n",
       "      <td>5/4/2017</td>\n",
       "      <td>en</td>\n",
       "      <td>us</td>\n",
       "      <td>Amazon</td>\n",
       "      <td>amazon.com</td>\n",
       "      <td>6</td>\n",
       "      <td>10</td>\n",
       "      <td>Adequate feel. Nice heft. Processor's still sl...</td>\n",
       "      <td>R. Craig</td>\n",
       "      <td>Samsung Galaxy S8 (64GB) G950U 5.8\" 4G LTE Unl...</td>\n",
       "    </tr>\n",
       "    <tr>\n",
       "      <th>4</th>\n",
       "      <td>/cellphones/samsung-galaxy-s8/</td>\n",
       "      <td>5/2/2017</td>\n",
       "      <td>en</td>\n",
       "      <td>us</td>\n",
       "      <td>Samsung</td>\n",
       "      <td>samsung.com</td>\n",
       "      <td>9.2</td>\n",
       "      <td>10</td>\n",
       "      <td>Never disappointed. One of the reasons I've be...</td>\n",
       "      <td>Buster2020</td>\n",
       "      <td>Samsung Galaxy S8 64GB (AT&amp;T)</td>\n",
       "    </tr>\n",
       "    <tr>\n",
       "      <th>5</th>\n",
       "      <td>/cellphones/samsung-galaxy-s8/</td>\n",
       "      <td>5/11/2017</td>\n",
       "      <td>en</td>\n",
       "      <td>us</td>\n",
       "      <td>Verizon Wireless</td>\n",
       "      <td>verizonwireless.com</td>\n",
       "      <td>4</td>\n",
       "      <td>10</td>\n",
       "      <td>I've now found that i'm in a group of people t...</td>\n",
       "      <td>S Ate Mine</td>\n",
       "      <td>Samsung Galaxy S8</td>\n",
       "    </tr>\n",
       "  </tbody>\n",
       "</table>\n",
       "</div>"
      ],
      "text/plain": [
       "0                       phone_url       date lang country            source  \\\n",
       "1  /cellphones/samsung-galaxy-s8/   5/2/2017   en      us  Verizon Wireless   \n",
       "2  /cellphones/samsung-galaxy-s8/  4/28/2017   en      us       Phone Arena   \n",
       "3  /cellphones/samsung-galaxy-s8/   5/4/2017   en      us            Amazon   \n",
       "4  /cellphones/samsung-galaxy-s8/   5/2/2017   en      us           Samsung   \n",
       "5  /cellphones/samsung-galaxy-s8/  5/11/2017   en      us  Verizon Wireless   \n",
       "\n",
       "0               domain score score_max  \\\n",
       "1  verizonwireless.com    10        10   \n",
       "2       phonearena.com    10        10   \n",
       "3           amazon.com     6        10   \n",
       "4          samsung.com   9.2        10   \n",
       "5  verizonwireless.com     4        10   \n",
       "\n",
       "0                                            extract       author  \\\n",
       "1  As a diehard Samsung fan who has had every Sam...   CarolAnn35   \n",
       "2  Love the phone. the phone is sleek and smooth ...    james0923   \n",
       "3  Adequate feel. Nice heft. Processor's still sl...     R. Craig   \n",
       "4  Never disappointed. One of the reasons I've be...  Buster2020    \n",
       "5  I've now found that i'm in a group of people t...   S Ate Mine   \n",
       "\n",
       "0                                            product  \n",
       "1                                  Samsung Galaxy S8  \n",
       "2                                  Samsung Galaxy S8  \n",
       "3  Samsung Galaxy S8 (64GB) G950U 5.8\" 4G LTE Unl...  \n",
       "4                      Samsung Galaxy S8 64GB (AT&T)  \n",
       "5                                  Samsung Galaxy S8  "
      ]
     },
     "execution_count": 32,
     "metadata": {},
     "output_type": "execute_result"
    }
   ],
   "source": [
    "Phone_data.head()"
   ]
  },
  {
   "cell_type": "code",
   "execution_count": 60,
   "id": "097cb081",
   "metadata": {},
   "outputs": [],
   "source": [
    "df=Phone_data.copy()"
   ]
  },
  {
   "cell_type": "code",
   "execution_count": 61,
   "id": "60ecab07",
   "metadata": {},
   "outputs": [
    {
     "data": {
      "text/html": [
       "<div>\n",
       "<style scoped>\n",
       "    .dataframe tbody tr th:only-of-type {\n",
       "        vertical-align: middle;\n",
       "    }\n",
       "\n",
       "    .dataframe tbody tr th {\n",
       "        vertical-align: top;\n",
       "    }\n",
       "\n",
       "    .dataframe thead th {\n",
       "        text-align: right;\n",
       "    }\n",
       "</style>\n",
       "<table border=\"1\" class=\"dataframe\">\n",
       "  <thead>\n",
       "    <tr style=\"text-align: right;\">\n",
       "      <th></th>\n",
       "      <th>phone_url</th>\n",
       "      <th>date</th>\n",
       "      <th>lang</th>\n",
       "      <th>country</th>\n",
       "      <th>source</th>\n",
       "      <th>domain</th>\n",
       "      <th>score</th>\n",
       "      <th>score_max</th>\n",
       "      <th>extract</th>\n",
       "      <th>author</th>\n",
       "      <th>product</th>\n",
       "    </tr>\n",
       "  </thead>\n",
       "  <tbody>\n",
       "    <tr>\n",
       "      <th>1</th>\n",
       "      <td>/cellphones/samsung-galaxy-s8/</td>\n",
       "      <td>5/2/2017</td>\n",
       "      <td>en</td>\n",
       "      <td>us</td>\n",
       "      <td>Verizon Wireless</td>\n",
       "      <td>verizonwireless.com</td>\n",
       "      <td>10</td>\n",
       "      <td>10</td>\n",
       "      <td>As a diehard Samsung fan who has had every Sam...</td>\n",
       "      <td>CarolAnn35</td>\n",
       "      <td>Samsung Galaxy S8</td>\n",
       "    </tr>\n",
       "    <tr>\n",
       "      <th>2</th>\n",
       "      <td>/cellphones/samsung-galaxy-s8/</td>\n",
       "      <td>4/28/2017</td>\n",
       "      <td>en</td>\n",
       "      <td>us</td>\n",
       "      <td>Phone Arena</td>\n",
       "      <td>phonearena.com</td>\n",
       "      <td>10</td>\n",
       "      <td>10</td>\n",
       "      <td>Love the phone. the phone is sleek and smooth ...</td>\n",
       "      <td>james0923</td>\n",
       "      <td>Samsung Galaxy S8</td>\n",
       "    </tr>\n",
       "    <tr>\n",
       "      <th>3</th>\n",
       "      <td>/cellphones/samsung-galaxy-s8/</td>\n",
       "      <td>5/4/2017</td>\n",
       "      <td>en</td>\n",
       "      <td>us</td>\n",
       "      <td>Amazon</td>\n",
       "      <td>amazon.com</td>\n",
       "      <td>6</td>\n",
       "      <td>10</td>\n",
       "      <td>Adequate feel. Nice heft. Processor's still sl...</td>\n",
       "      <td>R. Craig</td>\n",
       "      <td>Samsung Galaxy S8 (64GB) G950U 5.8\" 4G LTE Unl...</td>\n",
       "    </tr>\n",
       "    <tr>\n",
       "      <th>4</th>\n",
       "      <td>/cellphones/samsung-galaxy-s8/</td>\n",
       "      <td>5/2/2017</td>\n",
       "      <td>en</td>\n",
       "      <td>us</td>\n",
       "      <td>Samsung</td>\n",
       "      <td>samsung.com</td>\n",
       "      <td>9.2</td>\n",
       "      <td>10</td>\n",
       "      <td>Never disappointed. One of the reasons I've be...</td>\n",
       "      <td>Buster2020</td>\n",
       "      <td>Samsung Galaxy S8 64GB (AT&amp;T)</td>\n",
       "    </tr>\n",
       "    <tr>\n",
       "      <th>5</th>\n",
       "      <td>/cellphones/samsung-galaxy-s8/</td>\n",
       "      <td>5/11/2017</td>\n",
       "      <td>en</td>\n",
       "      <td>us</td>\n",
       "      <td>Verizon Wireless</td>\n",
       "      <td>verizonwireless.com</td>\n",
       "      <td>4</td>\n",
       "      <td>10</td>\n",
       "      <td>I've now found that i'm in a group of people t...</td>\n",
       "      <td>S Ate Mine</td>\n",
       "      <td>Samsung Galaxy S8</td>\n",
       "    </tr>\n",
       "  </tbody>\n",
       "</table>\n",
       "</div>"
      ],
      "text/plain": [
       "0                       phone_url       date lang country            source  \\\n",
       "1  /cellphones/samsung-galaxy-s8/   5/2/2017   en      us  Verizon Wireless   \n",
       "2  /cellphones/samsung-galaxy-s8/  4/28/2017   en      us       Phone Arena   \n",
       "3  /cellphones/samsung-galaxy-s8/   5/4/2017   en      us            Amazon   \n",
       "4  /cellphones/samsung-galaxy-s8/   5/2/2017   en      us           Samsung   \n",
       "5  /cellphones/samsung-galaxy-s8/  5/11/2017   en      us  Verizon Wireless   \n",
       "\n",
       "0               domain score score_max  \\\n",
       "1  verizonwireless.com    10        10   \n",
       "2       phonearena.com    10        10   \n",
       "3           amazon.com     6        10   \n",
       "4          samsung.com   9.2        10   \n",
       "5  verizonwireless.com     4        10   \n",
       "\n",
       "0                                            extract       author  \\\n",
       "1  As a diehard Samsung fan who has had every Sam...   CarolAnn35   \n",
       "2  Love the phone. the phone is sleek and smooth ...    james0923   \n",
       "3  Adequate feel. Nice heft. Processor's still sl...     R. Craig   \n",
       "4  Never disappointed. One of the reasons I've be...  Buster2020    \n",
       "5  I've now found that i'm in a group of people t...   S Ate Mine   \n",
       "\n",
       "0                                            product  \n",
       "1                                  Samsung Galaxy S8  \n",
       "2                                  Samsung Galaxy S8  \n",
       "3  Samsung Galaxy S8 (64GB) G950U 5.8\" 4G LTE Unl...  \n",
       "4                      Samsung Galaxy S8 64GB (AT&T)  \n",
       "5                                  Samsung Galaxy S8  "
      ]
     },
     "execution_count": 61,
     "metadata": {},
     "output_type": "execute_result"
    }
   ],
   "source": [
    "df.head()"
   ]
  },
  {
   "cell_type": "code",
   "execution_count": 62,
   "id": "d15dc559",
   "metadata": {},
   "outputs": [
    {
     "data": {
      "text/plain": [
       "0\n",
       "phone_url    object\n",
       "date         object\n",
       "lang         object\n",
       "country      object\n",
       "source       object\n",
       "domain       object\n",
       "score        object\n",
       "score_max    object\n",
       "extract      object\n",
       "author       object\n",
       "product      object\n",
       "dtype: object"
      ]
     },
     "execution_count": 62,
     "metadata": {},
     "output_type": "execute_result"
    }
   ],
   "source": [
    "df.dtypes"
   ]
  },
  {
   "cell_type": "code",
   "execution_count": 63,
   "id": "d9477dee",
   "metadata": {},
   "outputs": [],
   "source": [
    "df=df.drop(['phone_url','date','lang','country','source','domain'],axis=1)"
   ]
  },
  {
   "cell_type": "code",
   "execution_count": 64,
   "id": "3f850f6b",
   "metadata": {},
   "outputs": [
    {
     "data": {
      "text/html": [
       "<div>\n",
       "<style scoped>\n",
       "    .dataframe tbody tr th:only-of-type {\n",
       "        vertical-align: middle;\n",
       "    }\n",
       "\n",
       "    .dataframe tbody tr th {\n",
       "        vertical-align: top;\n",
       "    }\n",
       "\n",
       "    .dataframe thead th {\n",
       "        text-align: right;\n",
       "    }\n",
       "</style>\n",
       "<table border=\"1\" class=\"dataframe\">\n",
       "  <thead>\n",
       "    <tr style=\"text-align: right;\">\n",
       "      <th></th>\n",
       "      <th>score</th>\n",
       "      <th>score_max</th>\n",
       "      <th>extract</th>\n",
       "      <th>author</th>\n",
       "      <th>product</th>\n",
       "    </tr>\n",
       "  </thead>\n",
       "  <tbody>\n",
       "    <tr>\n",
       "      <th>1</th>\n",
       "      <td>10</td>\n",
       "      <td>10</td>\n",
       "      <td>As a diehard Samsung fan who has had every Sam...</td>\n",
       "      <td>CarolAnn35</td>\n",
       "      <td>Samsung Galaxy S8</td>\n",
       "    </tr>\n",
       "    <tr>\n",
       "      <th>2</th>\n",
       "      <td>10</td>\n",
       "      <td>10</td>\n",
       "      <td>Love the phone. the phone is sleek and smooth ...</td>\n",
       "      <td>james0923</td>\n",
       "      <td>Samsung Galaxy S8</td>\n",
       "    </tr>\n",
       "    <tr>\n",
       "      <th>3</th>\n",
       "      <td>6</td>\n",
       "      <td>10</td>\n",
       "      <td>Adequate feel. Nice heft. Processor's still sl...</td>\n",
       "      <td>R. Craig</td>\n",
       "      <td>Samsung Galaxy S8 (64GB) G950U 5.8\" 4G LTE Unl...</td>\n",
       "    </tr>\n",
       "    <tr>\n",
       "      <th>4</th>\n",
       "      <td>9.2</td>\n",
       "      <td>10</td>\n",
       "      <td>Never disappointed. One of the reasons I've be...</td>\n",
       "      <td>Buster2020</td>\n",
       "      <td>Samsung Galaxy S8 64GB (AT&amp;T)</td>\n",
       "    </tr>\n",
       "    <tr>\n",
       "      <th>5</th>\n",
       "      <td>4</td>\n",
       "      <td>10</td>\n",
       "      <td>I've now found that i'm in a group of people t...</td>\n",
       "      <td>S Ate Mine</td>\n",
       "      <td>Samsung Galaxy S8</td>\n",
       "    </tr>\n",
       "  </tbody>\n",
       "</table>\n",
       "</div>"
      ],
      "text/plain": [
       "0 score score_max                                            extract  \\\n",
       "1    10        10  As a diehard Samsung fan who has had every Sam...   \n",
       "2    10        10  Love the phone. the phone is sleek and smooth ...   \n",
       "3     6        10  Adequate feel. Nice heft. Processor's still sl...   \n",
       "4   9.2        10  Never disappointed. One of the reasons I've be...   \n",
       "5     4        10  I've now found that i'm in a group of people t...   \n",
       "\n",
       "0       author                                            product  \n",
       "1   CarolAnn35                                  Samsung Galaxy S8  \n",
       "2    james0923                                  Samsung Galaxy S8  \n",
       "3     R. Craig  Samsung Galaxy S8 (64GB) G950U 5.8\" 4G LTE Unl...  \n",
       "4  Buster2020                       Samsung Galaxy S8 64GB (AT&T)  \n",
       "5   S Ate Mine                                  Samsung Galaxy S8  "
      ]
     },
     "execution_count": 64,
     "metadata": {},
     "output_type": "execute_result"
    }
   ],
   "source": [
    "df.head()"
   ]
  },
  {
   "cell_type": "code",
   "execution_count": 65,
   "id": "f53aef36",
   "metadata": {},
   "outputs": [
    {
     "data": {
      "text/plain": [
       "(1415138, 5)"
      ]
     },
     "execution_count": 65,
     "metadata": {},
     "output_type": "execute_result"
    }
   ],
   "source": [
    "df.shape\n"
   ]
  },
  {
   "cell_type": "code",
   "execution_count": 54,
   "id": "72f96ffa",
   "metadata": {},
   "outputs": [
    {
     "data": {
      "text/plain": [
       "0\n",
       "score        True\n",
       "score_max    True\n",
       "extract      True\n",
       "author       True\n",
       "product      True\n",
       "dtype: bool"
      ]
     },
     "execution_count": 54,
     "metadata": {},
     "output_type": "execute_result"
    }
   ],
   "source": [
    "df.isnull().any()"
   ]
  },
  {
   "cell_type": "code",
   "execution_count": 66,
   "id": "88564280",
   "metadata": {},
   "outputs": [
    {
     "name": "stdout",
     "output_type": "stream",
     "text": [
      "Number of missing values across columns-\n",
      " 0\n",
      "score        63489\n",
      "score_max    63489\n",
      "extract      19361\n",
      "author       63202\n",
      "product          1\n",
      "dtype: int64\n"
     ]
    }
   ],
   "source": [
    "# Check for missing values present\n",
    "print('Number of missing values across columns-\\n', df.isnull().sum())\n"
   ]
  },
  {
   "cell_type": "code",
   "execution_count": 86,
   "id": "962d7c55",
   "metadata": {},
   "outputs": [],
   "source": [
    "df1=df.dropna(subset=['extract', 'product'])"
   ]
  },
  {
   "cell_type": "code",
   "execution_count": 87,
   "id": "9b163a1b",
   "metadata": {},
   "outputs": [
    {
     "name": "stdout",
     "output_type": "stream",
     "text": [
      "Number of missing values across columns-\n",
      " 0\n",
      "score        63073\n",
      "score_max    63073\n",
      "extract          0\n",
      "author       59355\n",
      "product          0\n",
      "dtype: int64\n"
     ]
    }
   ],
   "source": [
    "print('Number of missing values across columns-\\n', df1.isnull().sum())\n"
   ]
  },
  {
   "cell_type": "code",
   "execution_count": 89,
   "id": "086495c2",
   "metadata": {},
   "outputs": [],
   "source": [
    "df3=df1"
   ]
  },
  {
   "cell_type": "code",
   "execution_count": 88,
   "id": "c488df14",
   "metadata": {},
   "outputs": [],
   "source": [
    "df2=df1.fillna('NaN')"
   ]
  },
  {
   "cell_type": "code",
   "execution_count": 79,
   "id": "7da9ba47",
   "metadata": {},
   "outputs": [
    {
     "data": {
      "text/plain": [
       "0\n",
       "score        object\n",
       "score_max    object\n",
       "extract      object\n",
       "author       object\n",
       "product      object\n",
       "dtype: object"
      ]
     },
     "execution_count": 79,
     "metadata": {},
     "output_type": "execute_result"
    }
   ],
   "source": [
    "df2.dtypes"
   ]
  },
  {
   "cell_type": "code",
   "execution_count": 90,
   "id": "9a8a489c",
   "metadata": {},
   "outputs": [
    {
     "ename": "ValueError",
     "evalue": "Input contains NaN",
     "output_type": "error",
     "traceback": [
      "\u001b[1;31m---------------------------------------------------------------------------\u001b[0m",
      "\u001b[1;31mValueError\u001b[0m                                Traceback (most recent call last)",
      "\u001b[1;32m<ipython-input-90-236e012d0118>\u001b[0m in \u001b[0;36m<module>\u001b[1;34m\u001b[0m\n\u001b[0;32m      4\u001b[0m \u001b[0mimputer\u001b[0m \u001b[1;33m=\u001b[0m \u001b[0mSimpleImputer\u001b[0m\u001b[1;33m(\u001b[0m\u001b[0mmissing_values\u001b[0m\u001b[1;33m=\u001b[0m\u001b[1;32mNone\u001b[0m\u001b[1;33m,\u001b[0m \u001b[0mstrategy\u001b[0m\u001b[1;33m=\u001b[0m\u001b[1;34m'most_frequent'\u001b[0m\u001b[1;33m)\u001b[0m\u001b[1;33m\u001b[0m\u001b[1;33m\u001b[0m\u001b[0m\n\u001b[0;32m      5\u001b[0m \u001b[1;33m\u001b[0m\u001b[0m\n\u001b[1;32m----> 6\u001b[1;33m \u001b[0mdf3\u001b[0m \u001b[1;33m=\u001b[0m \u001b[0mimputer\u001b[0m\u001b[1;33m.\u001b[0m\u001b[0mfit_transform\u001b[0m\u001b[1;33m(\u001b[0m\u001b[0mdf3\u001b[0m\u001b[1;33m.\u001b[0m\u001b[0mvalues\u001b[0m\u001b[1;33m.\u001b[0m\u001b[0mreshape\u001b[0m\u001b[1;33m(\u001b[0m\u001b[1;33m-\u001b[0m\u001b[1;36m1\u001b[0m\u001b[1;33m,\u001b[0m\u001b[1;36m1\u001b[0m\u001b[1;33m)\u001b[0m\u001b[1;33m)\u001b[0m\u001b[1;33m[\u001b[0m\u001b[1;33m:\u001b[0m\u001b[1;33m,\u001b[0m\u001b[1;36m0\u001b[0m\u001b[1;33m]\u001b[0m\u001b[1;33m\u001b[0m\u001b[1;33m\u001b[0m\u001b[0m\n\u001b[0m\u001b[0;32m      7\u001b[0m \u001b[1;33m\u001b[0m\u001b[0m\n\u001b[0;32m      8\u001b[0m \u001b[0mdf3\u001b[0m\u001b[1;33m\u001b[0m\u001b[1;33m\u001b[0m\u001b[0m\n",
      "\u001b[1;32m~\\anaconda3\\lib\\site-packages\\sklearn\\base.py\u001b[0m in \u001b[0;36mfit_transform\u001b[1;34m(self, X, y, **fit_params)\u001b[0m\n\u001b[0;32m    697\u001b[0m         \u001b[1;32mif\u001b[0m \u001b[0my\u001b[0m \u001b[1;32mis\u001b[0m \u001b[1;32mNone\u001b[0m\u001b[1;33m:\u001b[0m\u001b[1;33m\u001b[0m\u001b[1;33m\u001b[0m\u001b[0m\n\u001b[0;32m    698\u001b[0m             \u001b[1;31m# fit method of arity 1 (unsupervised transformation)\u001b[0m\u001b[1;33m\u001b[0m\u001b[1;33m\u001b[0m\u001b[1;33m\u001b[0m\u001b[0m\n\u001b[1;32m--> 699\u001b[1;33m             \u001b[1;32mreturn\u001b[0m \u001b[0mself\u001b[0m\u001b[1;33m.\u001b[0m\u001b[0mfit\u001b[0m\u001b[1;33m(\u001b[0m\u001b[0mX\u001b[0m\u001b[1;33m,\u001b[0m \u001b[1;33m**\u001b[0m\u001b[0mfit_params\u001b[0m\u001b[1;33m)\u001b[0m\u001b[1;33m.\u001b[0m\u001b[0mtransform\u001b[0m\u001b[1;33m(\u001b[0m\u001b[0mX\u001b[0m\u001b[1;33m)\u001b[0m\u001b[1;33m\u001b[0m\u001b[1;33m\u001b[0m\u001b[0m\n\u001b[0m\u001b[0;32m    700\u001b[0m         \u001b[1;32melse\u001b[0m\u001b[1;33m:\u001b[0m\u001b[1;33m\u001b[0m\u001b[1;33m\u001b[0m\u001b[0m\n\u001b[0;32m    701\u001b[0m             \u001b[1;31m# fit method of arity 2 (supervised transformation)\u001b[0m\u001b[1;33m\u001b[0m\u001b[1;33m\u001b[0m\u001b[1;33m\u001b[0m\u001b[0m\n",
      "\u001b[1;32m~\\anaconda3\\lib\\site-packages\\sklearn\\impute\\_base.py\u001b[0m in \u001b[0;36mfit\u001b[1;34m(self, X, y)\u001b[0m\n\u001b[0;32m    286\u001b[0m         \u001b[0mself\u001b[0m \u001b[1;33m:\u001b[0m \u001b[0mSimpleImputer\u001b[0m\u001b[1;33m\u001b[0m\u001b[1;33m\u001b[0m\u001b[0m\n\u001b[0;32m    287\u001b[0m         \"\"\"\n\u001b[1;32m--> 288\u001b[1;33m         \u001b[0mX\u001b[0m \u001b[1;33m=\u001b[0m \u001b[0mself\u001b[0m\u001b[1;33m.\u001b[0m\u001b[0m_validate_input\u001b[0m\u001b[1;33m(\u001b[0m\u001b[0mX\u001b[0m\u001b[1;33m,\u001b[0m \u001b[0min_fit\u001b[0m\u001b[1;33m=\u001b[0m\u001b[1;32mTrue\u001b[0m\u001b[1;33m)\u001b[0m\u001b[1;33m\u001b[0m\u001b[1;33m\u001b[0m\u001b[0m\n\u001b[0m\u001b[0;32m    289\u001b[0m \u001b[1;33m\u001b[0m\u001b[0m\n\u001b[0;32m    290\u001b[0m         \u001b[1;31m# default fill_value is 0 for numerical input and \"missing_value\"\u001b[0m\u001b[1;33m\u001b[0m\u001b[1;33m\u001b[0m\u001b[1;33m\u001b[0m\u001b[0m\n",
      "\u001b[1;32m~\\anaconda3\\lib\\site-packages\\sklearn\\impute\\_base.py\u001b[0m in \u001b[0;36m_validate_input\u001b[1;34m(self, X, in_fit)\u001b[0m\n\u001b[0;32m    260\u001b[0m                 \u001b[1;32mraise\u001b[0m \u001b[0mnew_ve\u001b[0m \u001b[1;32mfrom\u001b[0m \u001b[1;32mNone\u001b[0m\u001b[1;33m\u001b[0m\u001b[1;33m\u001b[0m\u001b[0m\n\u001b[0;32m    261\u001b[0m             \u001b[1;32melse\u001b[0m\u001b[1;33m:\u001b[0m\u001b[1;33m\u001b[0m\u001b[1;33m\u001b[0m\u001b[0m\n\u001b[1;32m--> 262\u001b[1;33m                 \u001b[1;32mraise\u001b[0m \u001b[0mve\u001b[0m\u001b[1;33m\u001b[0m\u001b[1;33m\u001b[0m\u001b[0m\n\u001b[0m\u001b[0;32m    263\u001b[0m \u001b[1;33m\u001b[0m\u001b[0m\n\u001b[0;32m    264\u001b[0m         \u001b[0m_check_inputs_dtype\u001b[0m\u001b[1;33m(\u001b[0m\u001b[0mX\u001b[0m\u001b[1;33m,\u001b[0m \u001b[0mself\u001b[0m\u001b[1;33m.\u001b[0m\u001b[0mmissing_values\u001b[0m\u001b[1;33m)\u001b[0m\u001b[1;33m\u001b[0m\u001b[1;33m\u001b[0m\u001b[0m\n",
      "\u001b[1;32m~\\anaconda3\\lib\\site-packages\\sklearn\\impute\\_base.py\u001b[0m in \u001b[0;36m_validate_input\u001b[1;34m(self, X, in_fit)\u001b[0m\n\u001b[0;32m    250\u001b[0m \u001b[1;33m\u001b[0m\u001b[0m\n\u001b[0;32m    251\u001b[0m         \u001b[1;32mtry\u001b[0m\u001b[1;33m:\u001b[0m\u001b[1;33m\u001b[0m\u001b[1;33m\u001b[0m\u001b[0m\n\u001b[1;32m--> 252\u001b[1;33m             X = self._validate_data(X, reset=in_fit,\n\u001b[0m\u001b[0;32m    253\u001b[0m                                     \u001b[0maccept_sparse\u001b[0m\u001b[1;33m=\u001b[0m\u001b[1;34m'csc'\u001b[0m\u001b[1;33m,\u001b[0m \u001b[0mdtype\u001b[0m\u001b[1;33m=\u001b[0m\u001b[0mdtype\u001b[0m\u001b[1;33m,\u001b[0m\u001b[1;33m\u001b[0m\u001b[1;33m\u001b[0m\u001b[0m\n\u001b[0;32m    254\u001b[0m                                     \u001b[0mforce_all_finite\u001b[0m\u001b[1;33m=\u001b[0m\u001b[0mforce_all_finite\u001b[0m\u001b[1;33m,\u001b[0m\u001b[1;33m\u001b[0m\u001b[1;33m\u001b[0m\u001b[0m\n",
      "\u001b[1;32m~\\anaconda3\\lib\\site-packages\\sklearn\\base.py\u001b[0m in \u001b[0;36m_validate_data\u001b[1;34m(self, X, y, reset, validate_separately, **check_params)\u001b[0m\n\u001b[0;32m    419\u001b[0m             \u001b[0mout\u001b[0m \u001b[1;33m=\u001b[0m \u001b[0mX\u001b[0m\u001b[1;33m\u001b[0m\u001b[1;33m\u001b[0m\u001b[0m\n\u001b[0;32m    420\u001b[0m         \u001b[1;32melif\u001b[0m \u001b[0misinstance\u001b[0m\u001b[1;33m(\u001b[0m\u001b[0my\u001b[0m\u001b[1;33m,\u001b[0m \u001b[0mstr\u001b[0m\u001b[1;33m)\u001b[0m \u001b[1;32mand\u001b[0m \u001b[0my\u001b[0m \u001b[1;33m==\u001b[0m \u001b[1;34m'no_validation'\u001b[0m\u001b[1;33m:\u001b[0m\u001b[1;33m\u001b[0m\u001b[1;33m\u001b[0m\u001b[0m\n\u001b[1;32m--> 421\u001b[1;33m             \u001b[0mX\u001b[0m \u001b[1;33m=\u001b[0m \u001b[0mcheck_array\u001b[0m\u001b[1;33m(\u001b[0m\u001b[0mX\u001b[0m\u001b[1;33m,\u001b[0m \u001b[1;33m**\u001b[0m\u001b[0mcheck_params\u001b[0m\u001b[1;33m)\u001b[0m\u001b[1;33m\u001b[0m\u001b[1;33m\u001b[0m\u001b[0m\n\u001b[0m\u001b[0;32m    422\u001b[0m             \u001b[0mout\u001b[0m \u001b[1;33m=\u001b[0m \u001b[0mX\u001b[0m\u001b[1;33m\u001b[0m\u001b[1;33m\u001b[0m\u001b[0m\n\u001b[0;32m    423\u001b[0m         \u001b[1;32melse\u001b[0m\u001b[1;33m:\u001b[0m\u001b[1;33m\u001b[0m\u001b[1;33m\u001b[0m\u001b[0m\n",
      "\u001b[1;32m~\\anaconda3\\lib\\site-packages\\sklearn\\utils\\validation.py\u001b[0m in \u001b[0;36minner_f\u001b[1;34m(*args, **kwargs)\u001b[0m\n\u001b[0;32m     61\u001b[0m             \u001b[0mextra_args\u001b[0m \u001b[1;33m=\u001b[0m \u001b[0mlen\u001b[0m\u001b[1;33m(\u001b[0m\u001b[0margs\u001b[0m\u001b[1;33m)\u001b[0m \u001b[1;33m-\u001b[0m \u001b[0mlen\u001b[0m\u001b[1;33m(\u001b[0m\u001b[0mall_args\u001b[0m\u001b[1;33m)\u001b[0m\u001b[1;33m\u001b[0m\u001b[1;33m\u001b[0m\u001b[0m\n\u001b[0;32m     62\u001b[0m             \u001b[1;32mif\u001b[0m \u001b[0mextra_args\u001b[0m \u001b[1;33m<=\u001b[0m \u001b[1;36m0\u001b[0m\u001b[1;33m:\u001b[0m\u001b[1;33m\u001b[0m\u001b[1;33m\u001b[0m\u001b[0m\n\u001b[1;32m---> 63\u001b[1;33m                 \u001b[1;32mreturn\u001b[0m \u001b[0mf\u001b[0m\u001b[1;33m(\u001b[0m\u001b[1;33m*\u001b[0m\u001b[0margs\u001b[0m\u001b[1;33m,\u001b[0m \u001b[1;33m**\u001b[0m\u001b[0mkwargs\u001b[0m\u001b[1;33m)\u001b[0m\u001b[1;33m\u001b[0m\u001b[1;33m\u001b[0m\u001b[0m\n\u001b[0m\u001b[0;32m     64\u001b[0m \u001b[1;33m\u001b[0m\u001b[0m\n\u001b[0;32m     65\u001b[0m             \u001b[1;31m# extra_args > 0\u001b[0m\u001b[1;33m\u001b[0m\u001b[1;33m\u001b[0m\u001b[1;33m\u001b[0m\u001b[0m\n",
      "\u001b[1;32m~\\anaconda3\\lib\\site-packages\\sklearn\\utils\\validation.py\u001b[0m in \u001b[0;36mcheck_array\u001b[1;34m(array, accept_sparse, accept_large_sparse, dtype, order, copy, force_all_finite, ensure_2d, allow_nd, ensure_min_samples, ensure_min_features, estimator)\u001b[0m\n\u001b[0;32m    661\u001b[0m \u001b[1;33m\u001b[0m\u001b[0m\n\u001b[0;32m    662\u001b[0m         \u001b[1;32mif\u001b[0m \u001b[0mforce_all_finite\u001b[0m\u001b[1;33m:\u001b[0m\u001b[1;33m\u001b[0m\u001b[1;33m\u001b[0m\u001b[0m\n\u001b[1;32m--> 663\u001b[1;33m             _assert_all_finite(array,\n\u001b[0m\u001b[0;32m    664\u001b[0m                                allow_nan=force_all_finite == 'allow-nan')\n\u001b[0;32m    665\u001b[0m \u001b[1;33m\u001b[0m\u001b[0m\n",
      "\u001b[1;32m~\\anaconda3\\lib\\site-packages\\sklearn\\utils\\validation.py\u001b[0m in \u001b[0;36m_assert_all_finite\u001b[1;34m(X, allow_nan, msg_dtype)\u001b[0m\n\u001b[0;32m    109\u001b[0m     \u001b[1;32melif\u001b[0m \u001b[0mX\u001b[0m\u001b[1;33m.\u001b[0m\u001b[0mdtype\u001b[0m \u001b[1;33m==\u001b[0m \u001b[0mnp\u001b[0m\u001b[1;33m.\u001b[0m\u001b[0mdtype\u001b[0m\u001b[1;33m(\u001b[0m\u001b[1;34m'object'\u001b[0m\u001b[1;33m)\u001b[0m \u001b[1;32mand\u001b[0m \u001b[1;32mnot\u001b[0m \u001b[0mallow_nan\u001b[0m\u001b[1;33m:\u001b[0m\u001b[1;33m\u001b[0m\u001b[1;33m\u001b[0m\u001b[0m\n\u001b[0;32m    110\u001b[0m         \u001b[1;32mif\u001b[0m \u001b[0m_object_dtype_isnan\u001b[0m\u001b[1;33m(\u001b[0m\u001b[0mX\u001b[0m\u001b[1;33m)\u001b[0m\u001b[1;33m.\u001b[0m\u001b[0many\u001b[0m\u001b[1;33m(\u001b[0m\u001b[1;33m)\u001b[0m\u001b[1;33m:\u001b[0m\u001b[1;33m\u001b[0m\u001b[1;33m\u001b[0m\u001b[0m\n\u001b[1;32m--> 111\u001b[1;33m             \u001b[1;32mraise\u001b[0m \u001b[0mValueError\u001b[0m\u001b[1;33m(\u001b[0m\u001b[1;34m\"Input contains NaN\"\u001b[0m\u001b[1;33m)\u001b[0m\u001b[1;33m\u001b[0m\u001b[1;33m\u001b[0m\u001b[0m\n\u001b[0m\u001b[0;32m    112\u001b[0m \u001b[1;33m\u001b[0m\u001b[0m\n\u001b[0;32m    113\u001b[0m \u001b[1;33m\u001b[0m\u001b[0m\n",
      "\u001b[1;31mValueError\u001b[0m: Input contains NaN"
     ]
    }
   ],
   "source": [
    "from sklearn.impute import SimpleImputer\n",
    "\n",
    "\n",
    "imputer = SimpleImputer(missing_values=None, strategy='most_frequent')\n",
    "\n",
    "df3 = imputer.fit_transform(df3.values.reshape(-1,1))[:,0]\n",
    "\n",
    "df3"
   ]
  },
  {
   "cell_type": "code",
   "execution_count": 82,
   "id": "29f64b8e",
   "metadata": {},
   "outputs": [],
   "source": [
    "import pandas as pd\n",
    "\n",
    "\n",
    "trainingData = df2.iloc[:, :].values\n",
    "dataset = df2.iloc[:, :].values\n",
    "from sklearn.impute import SimpleImputer\n",
    "imputer = SimpleImputer(missing_values=0, strategy='most_frequent')\n",
    "\n",
    "#from sklearn.preprocessing import Imputer\n",
    "#imputer = Imputer(missing_values=\"0\", strategy=\"most_frequent\", axis = 0)\n",
    "imputer = imputer.fit(trainingData[:, 1:2])\n",
    "dataset[:, 1:2] = imputer.transform(dataset[:, 1:2])"
   ]
  },
  {
   "cell_type": "code",
   "execution_count": 84,
   "id": "ef802c39",
   "metadata": {},
   "outputs": [
    {
     "data": {
      "text/plain": [
       "array([['10', '10',\n",
       "        'As a diehard Samsung fan who has had every Samsung phone since before the S series started, this has been my favorite upgrade so far. I am amazed at some of the reviews and think people may just have a defective device that needs to be replaced. The battery life is amazing.',\n",
       "        'CarolAnn35', 'Samsung Galaxy S8'],\n",
       "       ['10', '10',\n",
       "        'Love the phone. the phone is sleek and smooth and beautiful I highly recommend the phone you will not regret getting this phone.',\n",
       "        'james0923', 'Samsung Galaxy S8'],\n",
       "       ['6', '10',\n",
       "        \"Adequate feel. Nice heft. Processor's still sluggish for the few apps that I have installed. Samsung wants to vacuum all of your data with their apps that requires more access than needed. What else is new.\",\n",
       "        'R. Craig',\n",
       "        'Samsung Galaxy S8 (64GB) G950U 5.8\" 4G LTE Unlocked (GSM + CDMA, US WARRANTY) (Orchid Gray)'],\n",
       "       ...,\n",
       "       [2.0, 10.0,\n",
       "        'Jetzt hat wohl Alcatell gedacht ,sie machen was super gutes.Aber auch dieses Mal hat es nicht geklappt. Dieses Handy ist zwar auch ein Dual-Band-Handy,aber das ist auch das einzig gute daran.Von der Form ist es fürchterlich anzusehen und auch von schwarz auf silber hat keine große Veränderung...',\n",
       "        'michaelawr', 'Alcatel Club Plus Handy'],\n",
       "       [8.0, 10.0,\n",
       "        'Ich bin seit 2 Jahren (stolzer) Besitzer eines alcatel one touch club+. Im Grossen und Ganzen bin ich echt zufrieden.....einfache Menüführung, keine sinnlosen Spielerein (tetris...) und - was mich persönlich am meisten beeindruckt - äußerst stabil.',\n",
       "        'claudia0815', 'Alcatel Club Plus Handy'],\n",
       "       [2.0, 10.0,\n",
       "        'Was sich Alkatel hier wieder ausgedacht hat,schlägt wohl auch nicht gerade ein.Das Alkatel hat eine tozal häßliche Form.Auch das nun die Oberschale nicht mehr schwarz sondern silber ist,verbessert das Aussehen auch nicht sehr viel zum positiven.Dieses Handy hat ein Gewicht von 150 g.Die...',\n",
       "        'michaelawr', 'Alcatel Club Plus Handy']], dtype=object)"
      ]
     },
     "execution_count": 84,
     "metadata": {},
     "output_type": "execute_result"
    }
   ],
   "source": [
    "dataset"
   ]
  },
  {
   "cell_type": "code",
   "execution_count": 91,
   "id": "5c3b2ba2",
   "metadata": {},
   "outputs": [],
   "source": [
    "dfstd = pd.DataFrame(dataset)"
   ]
  },
  {
   "cell_type": "code",
   "execution_count": 92,
   "id": "201c41ae",
   "metadata": {},
   "outputs": [
    {
     "data": {
      "text/html": [
       "<div>\n",
       "<style scoped>\n",
       "    .dataframe tbody tr th:only-of-type {\n",
       "        vertical-align: middle;\n",
       "    }\n",
       "\n",
       "    .dataframe tbody tr th {\n",
       "        vertical-align: top;\n",
       "    }\n",
       "\n",
       "    .dataframe thead th {\n",
       "        text-align: right;\n",
       "    }\n",
       "</style>\n",
       "<table border=\"1\" class=\"dataframe\">\n",
       "  <thead>\n",
       "    <tr style=\"text-align: right;\">\n",
       "      <th></th>\n",
       "      <th>0</th>\n",
       "      <th>1</th>\n",
       "      <th>2</th>\n",
       "      <th>3</th>\n",
       "      <th>4</th>\n",
       "    </tr>\n",
       "  </thead>\n",
       "  <tbody>\n",
       "    <tr>\n",
       "      <th>0</th>\n",
       "      <td>10</td>\n",
       "      <td>10</td>\n",
       "      <td>As a diehard Samsung fan who has had every Sam...</td>\n",
       "      <td>CarolAnn35</td>\n",
       "      <td>Samsung Galaxy S8</td>\n",
       "    </tr>\n",
       "    <tr>\n",
       "      <th>1</th>\n",
       "      <td>10</td>\n",
       "      <td>10</td>\n",
       "      <td>Love the phone. the phone is sleek and smooth ...</td>\n",
       "      <td>james0923</td>\n",
       "      <td>Samsung Galaxy S8</td>\n",
       "    </tr>\n",
       "    <tr>\n",
       "      <th>2</th>\n",
       "      <td>6</td>\n",
       "      <td>10</td>\n",
       "      <td>Adequate feel. Nice heft. Processor's still sl...</td>\n",
       "      <td>R. Craig</td>\n",
       "      <td>Samsung Galaxy S8 (64GB) G950U 5.8\" 4G LTE Unl...</td>\n",
       "    </tr>\n",
       "    <tr>\n",
       "      <th>3</th>\n",
       "      <td>9.2</td>\n",
       "      <td>10</td>\n",
       "      <td>Never disappointed. One of the reasons I've be...</td>\n",
       "      <td>Buster2020</td>\n",
       "      <td>Samsung Galaxy S8 64GB (AT&amp;T)</td>\n",
       "    </tr>\n",
       "    <tr>\n",
       "      <th>4</th>\n",
       "      <td>4</td>\n",
       "      <td>10</td>\n",
       "      <td>I've now found that i'm in a group of people t...</td>\n",
       "      <td>S Ate Mine</td>\n",
       "      <td>Samsung Galaxy S8</td>\n",
       "    </tr>\n",
       "  </tbody>\n",
       "</table>\n",
       "</div>"
      ],
      "text/plain": [
       "     0   1                                                  2            3  \\\n",
       "0   10  10  As a diehard Samsung fan who has had every Sam...   CarolAnn35   \n",
       "1   10  10  Love the phone. the phone is sleek and smooth ...    james0923   \n",
       "2    6  10  Adequate feel. Nice heft. Processor's still sl...     R. Craig   \n",
       "3  9.2  10  Never disappointed. One of the reasons I've be...  Buster2020    \n",
       "4    4  10  I've now found that i'm in a group of people t...   S Ate Mine   \n",
       "\n",
       "                                                   4  \n",
       "0                                  Samsung Galaxy S8  \n",
       "1                                  Samsung Galaxy S8  \n",
       "2  Samsung Galaxy S8 (64GB) G950U 5.8\" 4G LTE Unl...  \n",
       "3                      Samsung Galaxy S8 64GB (AT&T)  \n",
       "4                                  Samsung Galaxy S8  "
      ]
     },
     "execution_count": 92,
     "metadata": {},
     "output_type": "execute_result"
    }
   ],
   "source": [
    "dfstd.head()"
   ]
  },
  {
   "cell_type": "code",
   "execution_count": 93,
   "id": "ca7567e2",
   "metadata": {},
   "outputs": [
    {
     "name": "stdout",
     "output_type": "stream",
     "text": [
      "Number of missing values across columns-\n",
      " 0    0\n",
      "1    0\n",
      "2    0\n",
      "3    0\n",
      "4    0\n",
      "dtype: int64\n"
     ]
    }
   ],
   "source": [
    "print('Number of missing values across columns-\\n', dfstd.isnull().sum())"
   ]
  },
  {
   "cell_type": "code",
   "execution_count": 96,
   "id": "570a3ecb",
   "metadata": {
    "scrolled": true
   },
   "outputs": [
    {
     "data": {
      "text/html": [
       "<div>\n",
       "<style scoped>\n",
       "    .dataframe tbody tr th:only-of-type {\n",
       "        vertical-align: middle;\n",
       "    }\n",
       "\n",
       "    .dataframe tbody tr th {\n",
       "        vertical-align: top;\n",
       "    }\n",
       "\n",
       "    .dataframe thead th {\n",
       "        text-align: right;\n",
       "    }\n",
       "</style>\n",
       "<table border=\"1\" class=\"dataframe\">\n",
       "  <thead>\n",
       "    <tr style=\"text-align: right;\">\n",
       "      <th></th>\n",
       "      <th>Score</th>\n",
       "      <th>Scoremax</th>\n",
       "      <th>Extract</th>\n",
       "      <th>Author</th>\n",
       "      <th>Phone</th>\n",
       "    </tr>\n",
       "  </thead>\n",
       "  <tbody>\n",
       "    <tr>\n",
       "      <th>0</th>\n",
       "      <td>10</td>\n",
       "      <td>10</td>\n",
       "      <td>As a diehard Samsung fan who has had every Sam...</td>\n",
       "      <td>CarolAnn35</td>\n",
       "      <td>Samsung Galaxy S8</td>\n",
       "    </tr>\n",
       "    <tr>\n",
       "      <th>1</th>\n",
       "      <td>10</td>\n",
       "      <td>10</td>\n",
       "      <td>Love the phone. the phone is sleek and smooth ...</td>\n",
       "      <td>james0923</td>\n",
       "      <td>Samsung Galaxy S8</td>\n",
       "    </tr>\n",
       "    <tr>\n",
       "      <th>2</th>\n",
       "      <td>6</td>\n",
       "      <td>10</td>\n",
       "      <td>Adequate feel. Nice heft. Processor's still sl...</td>\n",
       "      <td>R. Craig</td>\n",
       "      <td>Samsung Galaxy S8 (64GB) G950U 5.8\" 4G LTE Unl...</td>\n",
       "    </tr>\n",
       "    <tr>\n",
       "      <th>3</th>\n",
       "      <td>9.2</td>\n",
       "      <td>10</td>\n",
       "      <td>Never disappointed. One of the reasons I've be...</td>\n",
       "      <td>Buster2020</td>\n",
       "      <td>Samsung Galaxy S8 64GB (AT&amp;T)</td>\n",
       "    </tr>\n",
       "    <tr>\n",
       "      <th>4</th>\n",
       "      <td>4</td>\n",
       "      <td>10</td>\n",
       "      <td>I've now found that i'm in a group of people t...</td>\n",
       "      <td>S Ate Mine</td>\n",
       "      <td>Samsung Galaxy S8</td>\n",
       "    </tr>\n",
       "  </tbody>\n",
       "</table>\n",
       "</div>"
      ],
      "text/plain": [
       "  Score Scoremax                                            Extract  \\\n",
       "0    10       10  As a diehard Samsung fan who has had every Sam...   \n",
       "1    10       10  Love the phone. the phone is sleek and smooth ...   \n",
       "2     6       10  Adequate feel. Nice heft. Processor's still sl...   \n",
       "3   9.2       10  Never disappointed. One of the reasons I've be...   \n",
       "4     4       10  I've now found that i'm in a group of people t...   \n",
       "\n",
       "        Author                                              Phone  \n",
       "0   CarolAnn35                                  Samsung Galaxy S8  \n",
       "1    james0923                                  Samsung Galaxy S8  \n",
       "2     R. Craig  Samsung Galaxy S8 (64GB) G950U 5.8\" 4G LTE Unl...  \n",
       "3  Buster2020                       Samsung Galaxy S8 64GB (AT&T)  \n",
       "4   S Ate Mine                                  Samsung Galaxy S8  "
      ]
     },
     "execution_count": 96,
     "metadata": {},
     "output_type": "execute_result"
    }
   ],
   "source": [
    "dfstd.columns = ['Score','Scoremax','Extract','Author','Phone']\n",
    "dfstd.head()"
   ]
  },
  {
   "cell_type": "code",
   "execution_count": 102,
   "id": "dc870395",
   "metadata": {},
   "outputs": [],
   "source": [
    "df5=dfstd"
   ]
  },
  {
   "cell_type": "code",
   "execution_count": 103,
   "id": "9744967d",
   "metadata": {},
   "outputs": [],
   "source": [
    "randomState = 612\n",
    "sampleSize = 1000000\n",
    "#df = pd.read_csv(filePath, delim_whitespace=True)\n",
    "df_s = df5.sample(n=sampleSize, random_state=randomState)"
   ]
  },
  {
   "cell_type": "code",
   "execution_count": 141,
   "id": "75b9ce61",
   "metadata": {},
   "outputs": [
    {
     "data": {
      "text/plain": [
       "(1000000, 5)"
      ]
     },
     "execution_count": 141,
     "metadata": {},
     "output_type": "execute_result"
    }
   ],
   "source": [
    "df_s.shape"
   ]
  },
  {
   "cell_type": "code",
   "execution_count": 142,
   "id": "86ed2867",
   "metadata": {},
   "outputs": [
    {
     "data": {
      "text/plain": [
       "Score       object\n",
       "Scoremax    object\n",
       "Extract     object\n",
       "Author      object\n",
       "Phone       object\n",
       "dtype: object"
      ]
     },
     "execution_count": 142,
     "metadata": {},
     "output_type": "execute_result"
    }
   ],
   "source": [
    "df_s.dtypes"
   ]
  },
  {
   "cell_type": "code",
   "execution_count": 143,
   "id": "852147a3",
   "metadata": {},
   "outputs": [
    {
     "data": {
      "text/html": [
       "<div>\n",
       "<style scoped>\n",
       "    .dataframe tbody tr th:only-of-type {\n",
       "        vertical-align: middle;\n",
       "    }\n",
       "\n",
       "    .dataframe tbody tr th {\n",
       "        vertical-align: top;\n",
       "    }\n",
       "\n",
       "    .dataframe thead th {\n",
       "        text-align: right;\n",
       "    }\n",
       "</style>\n",
       "<table border=\"1\" class=\"dataframe\">\n",
       "  <thead>\n",
       "    <tr style=\"text-align: right;\">\n",
       "      <th></th>\n",
       "      <th>Score</th>\n",
       "      <th>Scoremax</th>\n",
       "      <th>Extract</th>\n",
       "      <th>Author</th>\n",
       "      <th>Phone</th>\n",
       "    </tr>\n",
       "  </thead>\n",
       "  <tbody>\n",
       "    <tr>\n",
       "      <th>362640</th>\n",
       "      <td>8.0</td>\n",
       "      <td>10.0</td>\n",
       "      <td>apart from the camera quality, everything abou...</td>\n",
       "      <td>Vishal Jain</td>\n",
       "      <td>OnePlus X (Onyx, 16GB)</td>\n",
       "    </tr>\n",
       "    <tr>\n",
       "      <th>889326</th>\n",
       "      <td>2.0</td>\n",
       "      <td>10.0</td>\n",
       "      <td>Sony Ericsson Xperia arc S ?????? ???�????????...</td>\n",
       "      <td>sonymulti</td>\n",
       "      <td>Sony Xperia P</td>\n",
       "    </tr>\n",
       "    <tr>\n",
       "      <th>206546</th>\n",
       "      <td>6.0</td>\n",
       "      <td>10.0</td>\n",
       "      <td>J'ai eu la malchance de tomber sur un modèle d...</td>\n",
       "      <td>Client d'Amazon</td>\n",
       "      <td>Google Nexus 5 x Smartphone (13,2 cm (5,2 pouc...</td>\n",
       "    </tr>\n",
       "    <tr>\n",
       "      <th>1280240</th>\n",
       "      <td>3.2</td>\n",
       "      <td>10</td>\n",
       "      <td>this is the first phone i got. it is huge. if ...</td>\n",
       "      <td>Moon</td>\n",
       "      <td>Nokia 5300 XpressMusic</td>\n",
       "    </tr>\n",
       "    <tr>\n",
       "      <th>241244</th>\n",
       "      <td>8.0</td>\n",
       "      <td>10.0</td>\n",
       "      <td>Esperienza d'uso. Pro: Dimensioni e peso a mio...</td>\n",
       "      <td>Tommy</td>\n",
       "      <td>Motorola Moto X (2 Generazione) Smartphone, Di...</td>\n",
       "    </tr>\n",
       "  </tbody>\n",
       "</table>\n",
       "</div>"
      ],
      "text/plain": [
       "        Score Scoremax                                            Extract  \\\n",
       "362640    8.0     10.0  apart from the camera quality, everything abou...   \n",
       "889326    2.0     10.0  Sony Ericsson Xperia arc S ?????? ???�????????...   \n",
       "206546    6.0     10.0  J'ai eu la malchance de tomber sur un modèle d...   \n",
       "1280240   3.2       10  this is the first phone i got. it is huge. if ...   \n",
       "241244    8.0     10.0  Esperienza d'uso. Pro: Dimensioni e peso a mio...   \n",
       "\n",
       "                  Author                                              Phone  \n",
       "362640       Vishal Jain                             OnePlus X (Onyx, 16GB)  \n",
       "889326         sonymulti                                      Sony Xperia P  \n",
       "206546   Client d'Amazon  Google Nexus 5 x Smartphone (13,2 cm (5,2 pouc...  \n",
       "1280240             Moon                             Nokia 5300 XpressMusic  \n",
       "241244             Tommy  Motorola Moto X (2 Generazione) Smartphone, Di...  "
      ]
     },
     "execution_count": 143,
     "metadata": {},
     "output_type": "execute_result"
    }
   ],
   "source": [
    "df_new=df_s\n",
    "df_new.head()"
   ]
  },
  {
   "cell_type": "code",
   "execution_count": 144,
   "id": "d3763599",
   "metadata": {},
   "outputs": [
    {
     "data": {
      "text/plain": [
       "Score       object\n",
       "Scoremax    object\n",
       "Extract     object\n",
       "Author      object\n",
       "Phone       object\n",
       "dtype: object"
      ]
     },
     "execution_count": 144,
     "metadata": {},
     "output_type": "execute_result"
    }
   ],
   "source": [
    "df_new = df_new.infer_objects()\n",
    "df_new.dtypes"
   ]
  },
  {
   "cell_type": "code",
   "execution_count": 145,
   "id": "3b774b71",
   "metadata": {},
   "outputs": [
    {
     "data": {
      "text/plain": [
       "Score       object\n",
       "Scoremax    object\n",
       "Extract     string\n",
       "Author      object\n",
       "Phone       string\n",
       "dtype: object"
      ]
     },
     "execution_count": 145,
     "metadata": {},
     "output_type": "execute_result"
    }
   ],
   "source": [
    "df_new.convert_dtypes().dtypes"
   ]
  },
  {
   "cell_type": "code",
   "execution_count": 146,
   "id": "182ceb2f",
   "metadata": {},
   "outputs": [],
   "source": [
    "#df_new['Score'] = df_new['Score'].astype(float, errors = 'raise')\n",
    "df_new['Score'] = pd.to_numeric(df_new['Score'],errors = 'coerce')\n",
    "df_new['Scoremax'] = pd.to_numeric(df_new['Scoremax'],errors = 'coerce')"
   ]
  },
  {
   "cell_type": "code",
   "execution_count": 147,
   "id": "4389f367",
   "metadata": {},
   "outputs": [
    {
     "data": {
      "text/plain": [
       "Score       float64\n",
       "Scoremax    float64\n",
       "Extract      object\n",
       "Author       object\n",
       "Phone        object\n",
       "dtype: object"
      ]
     },
     "execution_count": 147,
     "metadata": {},
     "output_type": "execute_result"
    }
   ],
   "source": [
    "df_new.dtypes"
   ]
  },
  {
   "cell_type": "code",
   "execution_count": 150,
   "id": "dea3e363",
   "metadata": {},
   "outputs": [
    {
     "data": {
      "text/html": [
       "<div>\n",
       "<style scoped>\n",
       "    .dataframe tbody tr th:only-of-type {\n",
       "        vertical-align: middle;\n",
       "    }\n",
       "\n",
       "    .dataframe tbody tr th {\n",
       "        vertical-align: top;\n",
       "    }\n",
       "\n",
       "    .dataframe thead th {\n",
       "        text-align: right;\n",
       "    }\n",
       "</style>\n",
       "<table border=\"1\" class=\"dataframe\">\n",
       "  <thead>\n",
       "    <tr style=\"text-align: right;\">\n",
       "      <th></th>\n",
       "      <th>Score</th>\n",
       "      <th>Scoremax</th>\n",
       "      <th>Extract</th>\n",
       "      <th>Author</th>\n",
       "      <th>Phone</th>\n",
       "    </tr>\n",
       "  </thead>\n",
       "  <tbody>\n",
       "    <tr>\n",
       "      <th>362640</th>\n",
       "      <td>8.0</td>\n",
       "      <td>10.0</td>\n",
       "      <td>apart from the camera quality, everything abou...</td>\n",
       "      <td>Vishal Jain</td>\n",
       "      <td>OnePlus X (Onyx, 16GB)</td>\n",
       "    </tr>\n",
       "    <tr>\n",
       "      <th>889326</th>\n",
       "      <td>2.0</td>\n",
       "      <td>10.0</td>\n",
       "      <td>Sony Ericsson Xperia arc S ?????? ???�????????...</td>\n",
       "      <td>sonymulti</td>\n",
       "      <td>Sony Xperia P</td>\n",
       "    </tr>\n",
       "    <tr>\n",
       "      <th>206546</th>\n",
       "      <td>6.0</td>\n",
       "      <td>10.0</td>\n",
       "      <td>J'ai eu la malchance de tomber sur un modèle d...</td>\n",
       "      <td>Client d'Amazon</td>\n",
       "      <td>Google Nexus 5 x Smartphone (13,2 cm (5,2 pouc...</td>\n",
       "    </tr>\n",
       "    <tr>\n",
       "      <th>1280240</th>\n",
       "      <td>3.2</td>\n",
       "      <td>10.0</td>\n",
       "      <td>this is the first phone i got. it is huge. if ...</td>\n",
       "      <td>Moon</td>\n",
       "      <td>Nokia 5300 XpressMusic</td>\n",
       "    </tr>\n",
       "    <tr>\n",
       "      <th>241244</th>\n",
       "      <td>8.0</td>\n",
       "      <td>10.0</td>\n",
       "      <td>Esperienza d'uso. Pro: Dimensioni e peso a mio...</td>\n",
       "      <td>Tommy</td>\n",
       "      <td>Motorola Moto X (2 Generazione) Smartphone, Di...</td>\n",
       "    </tr>\n",
       "  </tbody>\n",
       "</table>\n",
       "</div>"
      ],
      "text/plain": [
       "         Score  Scoremax                                            Extract  \\\n",
       "362640     8.0      10.0  apart from the camera quality, everything abou...   \n",
       "889326     2.0      10.0  Sony Ericsson Xperia arc S ?????? ???�????????...   \n",
       "206546     6.0      10.0  J'ai eu la malchance de tomber sur un modèle d...   \n",
       "1280240    3.2      10.0  this is the first phone i got. it is huge. if ...   \n",
       "241244     8.0      10.0  Esperienza d'uso. Pro: Dimensioni e peso a mio...   \n",
       "\n",
       "                  Author                                              Phone  \n",
       "362640       Vishal Jain                             OnePlus X (Onyx, 16GB)  \n",
       "889326         sonymulti                                      Sony Xperia P  \n",
       "206546   Client d'Amazon  Google Nexus 5 x Smartphone (13,2 cm (5,2 pouc...  \n",
       "1280240             Moon                             Nokia 5300 XpressMusic  \n",
       "241244             Tommy  Motorola Moto X (2 Generazione) Smartphone, Di...  "
      ]
     },
     "execution_count": 150,
     "metadata": {},
     "output_type": "execute_result"
    }
   ],
   "source": [
    "df_new.head()"
   ]
  },
  {
   "cell_type": "code",
   "execution_count": 151,
   "id": "0d7d5519",
   "metadata": {},
   "outputs": [],
   "source": [
    "dfpb=df_new.copy()"
   ]
  },
  {
   "cell_type": "code",
   "execution_count": 152,
   "id": "ffab9925",
   "metadata": {},
   "outputs": [
    {
     "data": {
      "text/plain": [
       "count    999996.000000\n",
       "mean          7.643867\n",
       "std           3.052191\n",
       "min           0.000000\n",
       "25%           6.000000\n",
       "50%           8.400000\n",
       "75%          10.000000\n",
       "max          10.000000\n",
       "Name: Score, dtype: float64"
      ]
     },
     "execution_count": 152,
     "metadata": {},
     "output_type": "execute_result"
    }
   ],
   "source": [
    "dfpb['Score'].describe().transpose()"
   ]
  },
  {
   "cell_type": "code",
   "execution_count": 154,
   "id": "80c67ec0",
   "metadata": {},
   "outputs": [
    {
     "data": {
      "image/png": "[encoded data removed]",
      "text/plain": [
       "<Figure size 1800x360 with 1 Axes>"
      ]
     },
     "metadata": {},
     "output_type": "display_data"
    }
   ],
   "source": [
    "with sns.axes_style('white'):\n",
    "    g = sns.factorplot(\"Score\", data=dfpb, aspect=5,kind='count')\n",
    "    g.set_ylabels(\"Total number of ratings\") "
   ]
  },
  {
   "cell_type": "code",
   "execution_count": 157,
   "id": "0f661ebc",
   "metadata": {},
   "outputs": [],
   "source": [
    "most_rated = dfpb.Author.value_counts()"
   ]
  },
  {
   "cell_type": "code",
   "execution_count": 158,
   "id": "719422fa",
   "metadata": {},
   "outputs": [
    {
     "data": {
      "text/plain": [
       "Amazon Customer    55164\n",
       "0                  42639\n",
       "Cliente Amazon     13850\n",
       "e-bit               6143\n",
       "Client d'Amazon     5508\n",
       "                   ...  \n",
       "Mircea Florian         1\n",
       "sniptheelf             1\n",
       "jection                1\n",
       "Gafiatullin            1\n",
       "msm51                  1\n",
       "Name: Author, Length: 595020, dtype: int64"
      ]
     },
     "execution_count": 158,
     "metadata": {},
     "output_type": "execute_result"
    }
   ],
   "source": [
    "most_rated"
   ]
  },
  {
   "cell_type": "code",
   "execution_count": 159,
   "id": "de472617",
   "metadata": {},
   "outputs": [],
   "source": [
    "top_fifty = dfpb.Author.value_counts().rename_axis('Author').reset_index(name='No. of reviews')"
   ]
  },
  {
   "cell_type": "code",
   "execution_count": 160,
   "id": "1c9a27dd",
   "metadata": {},
   "outputs": [
    {
     "data": {
      "text/html": [
       "<div>\n",
       "<style scoped>\n",
       "    .dataframe tbody tr th:only-of-type {\n",
       "        vertical-align: middle;\n",
       "    }\n",
       "\n",
       "    .dataframe tbody tr th {\n",
       "        vertical-align: top;\n",
       "    }\n",
       "\n",
       "    .dataframe thead th {\n",
       "        text-align: right;\n",
       "    }\n",
       "</style>\n",
       "<table border=\"1\" class=\"dataframe\">\n",
       "  <thead>\n",
       "    <tr style=\"text-align: right;\">\n",
       "      <th></th>\n",
       "      <th>Author</th>\n",
       "      <th>No. of reviews</th>\n",
       "    </tr>\n",
       "  </thead>\n",
       "  <tbody>\n",
       "    <tr>\n",
       "      <th>0</th>\n",
       "      <td>Amazon Customer</td>\n",
       "      <td>55164</td>\n",
       "    </tr>\n",
       "    <tr>\n",
       "      <th>1</th>\n",
       "      <td>0</td>\n",
       "      <td>42639</td>\n",
       "    </tr>\n",
       "    <tr>\n",
       "      <th>2</th>\n",
       "      <td>Cliente Amazon</td>\n",
       "      <td>13850</td>\n",
       "    </tr>\n",
       "    <tr>\n",
       "      <th>3</th>\n",
       "      <td>e-bit</td>\n",
       "      <td>6143</td>\n",
       "    </tr>\n",
       "    <tr>\n",
       "      <th>4</th>\n",
       "      <td>Client d'Amazon</td>\n",
       "      <td>5508</td>\n",
       "    </tr>\n",
       "  </tbody>\n",
       "</table>\n",
       "</div>"
      ],
      "text/plain": [
       "            Author  No. of reviews\n",
       "0  Amazon Customer           55164\n",
       "1                0           42639\n",
       "2   Cliente Amazon           13850\n",
       "3            e-bit            6143\n",
       "4  Client d'Amazon            5508"
      ]
     },
     "execution_count": 160,
     "metadata": {},
     "output_type": "execute_result"
    }
   ],
   "source": [
    "top_fifty.head()"
   ]
  },
  {
   "cell_type": "code",
   "execution_count": 162,
   "id": "4176acfa",
   "metadata": {},
   "outputs": [],
   "source": [
    "# Dropping the users who have rated less than 50 products.\n",
    "Review_df = dfpb[dfpb.Author.isin(top_fifty[top_fifty['No. of reviews'] >= 50].Author)]"
   ]
  },
  {
   "cell_type": "code",
   "execution_count": 163,
   "id": "f790646e",
   "metadata": {},
   "outputs": [
    {
     "data": {
      "text/plain": [
       "645"
      ]
     },
     "execution_count": 163,
     "metadata": {},
     "output_type": "execute_result"
    }
   ],
   "source": [
    "# number of unique users now who have atleast rated 50 products\n",
    "Review_df.Author.nunique()"
   ]
  },
  {
   "cell_type": "code",
   "execution_count": 164,
   "id": "f0982325",
   "metadata": {},
   "outputs": [
    {
     "data": {
      "text/plain": [
       "27485"
      ]
     },
     "execution_count": 164,
     "metadata": {},
     "output_type": "execute_result"
    }
   ],
   "source": [
    "# number of unique products now\n",
    "Review_df.Phone.nunique()"
   ]
  },
  {
   "cell_type": "code",
   "execution_count": 172,
   "id": "75be0841",
   "metadata": {},
   "outputs": [],
   "source": [
    "from sklearn.model_selection import train_test_split"
   ]
  },
  {
   "cell_type": "code",
   "execution_count": 173,
   "id": "872328f0",
   "metadata": {},
   "outputs": [
    {
     "ename": "TypeError",
     "evalue": "'DataFrame' object is not callable",
     "output_type": "error",
     "traceback": [
      "\u001b[1;31m---------------------------------------------------------------------------\u001b[0m",
      "\u001b[1;31mTypeError\u001b[0m                                 Traceback (most recent call last)",
      "\u001b[1;32m<ipython-input-173-bfcacf8b9eb3>\u001b[0m in \u001b[0;36m<module>\u001b[1;34m\u001b[0m\n\u001b[1;32m----> 1\u001b[1;33m \u001b[0mtrain_set\u001b[0m\u001b[1;33m,\u001b[0m\u001b[0mtest_set\u001b[0m \u001b[1;33m=\u001b[0m \u001b[0mtrain_test_split\u001b[0m\u001b[1;33m(\u001b[0m\u001b[0mReview_df\u001b[0m\u001b[1;33m(\u001b[0m\u001b[1;34m'Author'\u001b[0m\u001b[1;33m,\u001b[0m\u001b[1;34m'Phone'\u001b[0m\u001b[1;33m)\u001b[0m\u001b[1;33m,\u001b[0m \u001b[0mtest_size\u001b[0m\u001b[1;33m=\u001b[0m\u001b[1;36m0.3\u001b[0m\u001b[1;33m,\u001b[0m \u001b[0mrandom_state\u001b[0m\u001b[1;33m=\u001b[0m\u001b[1;36m9999\u001b[0m\u001b[1;33m)\u001b[0m\u001b[1;33m\u001b[0m\u001b[1;33m\u001b[0m\u001b[0m\n\u001b[0m",
      "\u001b[1;31mTypeError\u001b[0m: 'DataFrame' object is not callable"
     ]
    }
   ],
   "source": [
    "train_set,test_set = train_test_split(Review_df('Author','Phone'), test_size=0.3, random_state=9999)"
   ]
  },
  {
   "cell_type": "code",
   "execution_count": 167,
   "id": "c9d043ef",
   "metadata": {},
   "outputs": [
    {
     "data": {
      "text/html": [
       "<div>\n",
       "<style scoped>\n",
       "    .dataframe tbody tr th:only-of-type {\n",
       "        vertical-align: middle;\n",
       "    }\n",
       "\n",
       "    .dataframe tbody tr th {\n",
       "        vertical-align: top;\n",
       "    }\n",
       "\n",
       "    .dataframe thead th {\n",
       "        text-align: right;\n",
       "    }\n",
       "</style>\n",
       "<table border=\"1\" class=\"dataframe\">\n",
       "  <thead>\n",
       "    <tr style=\"text-align: right;\">\n",
       "      <th></th>\n",
       "      <th>Score</th>\n",
       "      <th>Scoremax</th>\n",
       "      <th>Extract</th>\n",
       "      <th>Author</th>\n",
       "      <th>Phone</th>\n",
       "    </tr>\n",
       "  </thead>\n",
       "  <tbody>\n",
       "    <tr>\n",
       "      <th>326975</th>\n",
       "      <td>10.0</td>\n",
       "      <td>10.0</td>\n",
       "      <td>+ unschlagbare Preis/Leistung + habe das Moto ...</td>\n",
       "      <td>Marco</td>\n",
       "      <td>Lenovo Motorola Moto G Smartphone (11,4 cm (4,...</td>\n",
       "    </tr>\n",
       "    <tr>\n",
       "      <th>555393</th>\n",
       "      <td>10.0</td>\n",
       "      <td>10.0</td>\n",
       "      <td>Awesome product in this price</td>\n",
       "      <td>Amazon Customer</td>\n",
       "      <td>YU Yuphoria YU5010A (Black+Silver)</td>\n",
       "    </tr>\n",
       "    <tr>\n",
       "      <th>765008</th>\n",
       "      <td>10.0</td>\n",
       "      <td>10.0</td>\n",
       "      <td>Ho ordinato questo articolo è il mio primo sma...</td>\n",
       "      <td>Cliente Amazon</td>\n",
       "      <td>Huawei Ascend G510 Smartphone, 4 GB, Bianco</td>\n",
       "    </tr>\n",
       "    <tr>\n",
       "      <th>1061009</th>\n",
       "      <td>0.0</td>\n",
       "      <td>10.0</td>\n",
       "      <td>iPhone'u biraz büyük bulabilirsiniz, en azında...</td>\n",
       "      <td>bumudur</td>\n",
       "      <td>Apple iPhone 3GS 32GB</td>\n",
       "    </tr>\n",
       "    <tr>\n",
       "      <th>906476</th>\n",
       "      <td>8.0</td>\n",
       "      <td>10.0</td>\n",
       "      <td>Produto bom. Não é nenhum Smartphone, portanto...</td>\n",
       "      <td>e-bit</td>\n",
       "      <td>Celular Motorola EX117</td>\n",
       "    </tr>\n",
       "  </tbody>\n",
       "</table>\n",
       "</div>"
      ],
      "text/plain": [
       "         Score  Scoremax                                            Extract  \\\n",
       "326975    10.0      10.0  + unschlagbare Preis/Leistung + habe das Moto ...   \n",
       "555393    10.0      10.0                      Awesome product in this price   \n",
       "765008    10.0      10.0  Ho ordinato questo articolo è il mio primo sma...   \n",
       "1061009    0.0      10.0  iPhone'u biraz büyük bulabilirsiniz, en azında...   \n",
       "906476     8.0      10.0  Produto bom. Não é nenhum Smartphone, portanto...   \n",
       "\n",
       "                  Author                                              Phone  \n",
       "326975             Marco  Lenovo Motorola Moto G Smartphone (11,4 cm (4,...  \n",
       "555393   Amazon Customer                 YU Yuphoria YU5010A (Black+Silver)  \n",
       "765008    Cliente Amazon        Huawei Ascend G510 Smartphone, 4 GB, Bianco  \n",
       "1061009          bumudur                              Apple iPhone 3GS 32GB  \n",
       "906476             e-bit                             Celular Motorola EX117  "
      ]
     },
     "execution_count": 167,
     "metadata": {},
     "output_type": "execute_result"
    }
   ],
   "source": [
    "train_set.head()"
   ]
  },
  {
   "cell_type": "code",
   "execution_count": null,
   "id": "4047b8da",
   "metadata": {},
   "outputs": [],
   "source": []
  }
 ],
 "metadata": {
  "kernelspec": {
   "display_name": "Python 3",
   "language": "python",
   "name": "python3"
  },
  "language_info": {
   "codemirror_mode": {
    "name": "ipython",
    "version": 3
   },
   "file_extension": ".py",
   "mimetype": "text/x-python",
   "name": "python",
   "nbconvert_exporter": "python",
   "pygments_lexer": "ipython3",
   "version": "3.8.8"
  }
 },
 "nbformat": 4,
 "nbformat_minor": 5
}
